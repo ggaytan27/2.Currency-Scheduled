{
 "cells": [
  {
   "cell_type": "markdown",
   "metadata": {},
   "source": [
    "## Libraries"
   ]
  },
  {
   "cell_type": "code",
   "execution_count": 8,
   "metadata": {},
   "outputs": [],
   "source": [
    "import sys\n",
    "import os\n",
    "from requests.auth import HTTPProxyAuth\n",
    "\n",
    "# Obtener la ruta del directorio actual del notebook\n",
    "notebook_dir = os.getcwd()\n",
    "\n",
    "# Añadir el directorio principal 'project' al path\n",
    "sys.path.append(os.path.abspath(os.path.join(notebook_dir, '..')))\n",
    "\n",
    "import config\n",
    "from config import PROXI_USER, PROXI_PWD, EMAIL, SUBJECT, PROXIES\n",
    "import pandas as pd\n",
    "\n",
    "import requests\n",
    "from requests import Request, Session\n",
    "from requests.exceptions import ConnectionError, Timeout, TooManyRedirects\n",
    "import json\n",
    "\n",
    "from bs4 import BeautifulSoup\n",
    "from tqdm import tqdm\n",
    "\n",
    "from requests_ntlm import HttpNtlmAuth\n"
   ]
  },
  {
   "cell_type": "markdown",
   "metadata": {},
   "source": [
    "## Data Collection"
   ]
  },
  {
   "cell_type": "markdown",
   "metadata": {},
   "source": [
    "### NO USAR"
   ]
  },
  {
   "cell_type": "code",
   "execution_count": 2,
   "metadata": {},
   "outputs": [],
   "source": [
    "#si se incluye mas de una fecha o serie, incluir /\n",
    "fecha = '2024-10-04'\n",
    "serie = 'SF43718'\n",
    "\n",
    "#url = \"https://www.banxico.org.mx/SieAPIRest/service/v1/series/\"+serie+\"/datos/\"+fecha+\"/\"+fecha+\"\"\n",
    "\n",
    "headers = {\n",
    "    'Bmx-Token': '80f8b40305f8c5067445bd8868c2be2fd29f526c597fbadffa7cca63509a25a7',  # Cambia esto por el header que necesites\n",
    "    'Content-Type': 'application/json',\n",
    "}\n",
    "\n",
    "proxies = PROXIES\n",
    "auth = HTTPProxyAuth(PROXI_USER, PROXI_PWD)\n"
   ]
  },
  {
   "cell_type": "markdown",
   "metadata": {},
   "source": [
    "### Precio Dollar"
   ]
  },
  {
   "cell_type": "code",
   "execution_count": 9,
   "metadata": {},
   "outputs": [],
   "source": [
    "API_TOKEN = '80f8b40305f8c5067445bd8868c2be2fd29f526c597fbadffa7cca63509a25a7'\n",
    "url_banxico = 'https://www.banxico.org.mx/SieAPIRest/service/v1/series/SF43787,SF43784/datos/oportuno?token='+API_TOKEN"
   ]
  },
  {
   "cell_type": "code",
   "execution_count": 26,
   "metadata": {},
   "outputs": [],
   "source": [
    "try:\n",
    "    #response = requests.get(url,  proxies=proxies, auth=auth, headers=headers)\n",
    "    response = requests.get(url_banxico)\n",
    "    \n",
    "    if response.status_code == 200:\n",
    "        dataDolar = response.json()\n",
    "    else:\n",
    "        print(f\"Error en Peticio: {response.status_code}\")\n",
    "        print(f\"Detalles del error: {response.text}\")\n",
    "except requests.exceptions.RequestException as e:\n",
    "    print(f\"Request failed: {e}\")\n",
    "    #print(f\"Error: {response.status_code}, {response.text}\")\n"
   ]
  },
  {
   "cell_type": "markdown",
   "metadata": {},
   "source": [
    "### Precio Crypto-Monedas"
   ]
  },
  {
   "cell_type": "code",
   "execution_count": 25,
   "metadata": {},
   "outputs": [],
   "source": [
    "urlCriptos = 'https://api.coingecko.com/api/v3/coins/markets?vs_currency=usd&order=market_cap_desc&per_page=100&page=1&sparkline=false'\n"
   ]
  },
  {
   "cell_type": "code",
   "execution_count": 27,
   "metadata": {},
   "outputs": [],
   "source": [
    "try:\n",
    "    #response = requests.get(url,  proxies=proxies, auth=auth, headers=headers)\n",
    "    response = requests.get(urlCriptos)\n",
    "    \n",
    "    if response.status_code == 200:\n",
    "        dataCryptos = response.json()\n",
    "    else:\n",
    "        print(f\"Error en Peticio: {response.status_code}\")\n",
    "        print(f\"Detalles del error: {response.text}\")\n",
    "except requests.exceptions.RequestException as e:\n",
    "    print(f\"Request failed: {e}\")\n",
    "    #print(f\"Error: {response.status_code}, {response.text}\")"
   ]
  },
  {
   "cell_type": "markdown",
   "metadata": {},
   "source": [
    "## Data Understanding"
   ]
  },
  {
   "cell_type": "markdown",
   "metadata": {},
   "source": [
    "### Dolar"
   ]
  },
  {
   "cell_type": "code",
   "execution_count": 29,
   "metadata": {},
   "outputs": [
    {
     "data": {
      "text/plain": [
       "dict_keys(['bmx'])"
      ]
     },
     "execution_count": 29,
     "metadata": {},
     "output_type": "execute_result"
    }
   ],
   "source": [
    "dataDolar.keys()"
   ]
  },
  {
   "cell_type": "markdown",
   "metadata": {},
   "source": [
    "### Previo Venta"
   ]
  },
  {
   "cell_type": "code",
   "execution_count": 30,
   "metadata": {},
   "outputs": [],
   "source": [
    "#Venta\n",
    "fechaVenta = dataDolar['bmx']['series'][0]['datos'][0]['fecha']\n",
    "precioVenta = dataDolar['bmx']['series'][0]['datos'][0]['dato']"
   ]
  },
  {
   "cell_type": "markdown",
   "metadata": {},
   "source": [
    "### Precio Compra"
   ]
  },
  {
   "cell_type": "code",
   "execution_count": 31,
   "metadata": {},
   "outputs": [],
   "source": [
    "#Compra\n",
    "#response['bmx']['series'][1]\n",
    "fechaCompra = dataDolar['bmx']['series'][1]['datos'][0]['fecha']\n",
    "precioCompra = dataDolar['bmx']['series'][1]['datos'][0]['dato']"
   ]
  },
  {
   "cell_type": "markdown",
   "metadata": {},
   "source": [
    "### Crypto Monedas"
   ]
  },
  {
   "cell_type": "markdown",
   "metadata": {},
   "source": [
    "## Data Preparation"
   ]
  },
  {
   "cell_type": "markdown",
   "metadata": {},
   "source": [
    "### Armado de Mensaje"
   ]
  },
  {
   "cell_type": "code",
   "execution_count": 24,
   "metadata": {},
   "outputs": [
    {
     "name": "stdout",
     "output_type": "stream",
     "text": [
      "\n",
      "Hola, Informacion sobre tipo de Cambio:\n",
      "Venta:\n",
      " Fecha Venta: 08/10/2024\n",
      " Valor: $19.3980\n",
      "Compra\n",
      " Fecha Compra: 08/10/2024\n",
      " Valor: $19.3890\n"
     ]
    }
   ],
   "source": [
    "mensaje = \"\\nHola, Informacion sobre tipo de Cambio:\\nVenta:\\n Fecha Venta: {}\\n Valor: ${}\\nCompra\\n Fecha Compra: {}\\n Valor: ${}\".format(fechaVenta, precioVenta, fechaCompra, precioCompra)\n",
    "print(mensaje)"
   ]
  }
 ],
 "metadata": {
  "kernelspec": {
   "display_name": "env",
   "language": "python",
   "name": "python3"
  },
  "language_info": {
   "codemirror_mode": {
    "name": "ipython",
    "version": 3
   },
   "file_extension": ".py",
   "mimetype": "text/x-python",
   "name": "python",
   "nbconvert_exporter": "python",
   "pygments_lexer": "ipython3",
   "version": "3.12.3"
  }
 },
 "nbformat": 4,
 "nbformat_minor": 2
}
