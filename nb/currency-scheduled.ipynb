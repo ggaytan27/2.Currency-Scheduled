{
 "cells": [
  {
   "cell_type": "markdown",
   "metadata": {},
   "source": [
    "## Libraries"
   ]
  },
  {
   "cell_type": "code",
   "execution_count": 45,
   "metadata": {},
   "outputs": [],
   "source": [
    "import sys\n",
    "import os\n",
    "from requests.auth import HTTPProxyAuth\n",
    "\n",
    "# Obtener la ruta del directorio actual del notebook\n",
    "notebook_dir = os.getcwd()\n",
    "\n",
    "# Añadir el directorio principal 'project' al path\n",
    "sys.path.append(os.path.abspath(os.path.join(notebook_dir, '..')))\n",
    "\n",
    "import config\n",
    "from config import PROXI_USER, PROXI_PWD, EMAIL, SUBJECT, PROXIES\n",
    "import pandas as pd\n",
    "\n",
    "import requests\n",
    "from requests import Request, Session\n",
    "from requests.exceptions import ConnectionError, Timeout, TooManyRedirects\n",
    "import json\n",
    "\n",
    "from bs4 import BeautifulSoup\n",
    "from tqdm import tqdm\n",
    "\n",
    "from requests_ntlm import HttpNtlmAuth\n"
   ]
  },
  {
   "cell_type": "markdown",
   "metadata": {},
   "source": [
    "## Data Collection"
   ]
  },
  {
   "cell_type": "code",
   "execution_count": 49,
   "metadata": {},
   "outputs": [
    {
     "name": "stdout",
     "output_type": "stream",
     "text": [
      "US\\GGI2JU\n",
      "BoschGil041189+\n"
     ]
    }
   ],
   "source": [
    "#si se incluye mas de una fecha o serie, incluir /\n",
    "fecha = '2024-10-02'\n",
    "serie = 'SF43718'\n",
    "\n",
    "url = \"https://www.banxico.org.mx/SieAPIRest/service/v1/series/\"+serie+\"/datos/\"+fecha+\"/\"+fecha+\"\"\n",
    "\n",
    "headers = {\n",
    "    'Bmx-Token': '80f8b40305f8c5067445bd8868c2be2fd29f526c597fbadffa7cca63509a25a7',  # Cambia esto por el header que necesites\n",
    "    'Content-Type': 'application/json',\n",
    "}\n",
    "\n",
    "proxies = PROXIES\n",
    "auth = HTTPProxyAuth(PROXI_USER, PROXI_PWD)\n"
   ]
  },
  {
   "cell_type": "code",
   "execution_count": 51,
   "metadata": {},
   "outputs": [
    {
     "name": "stdout",
     "output_type": "stream",
     "text": [
      "Request failed: HTTPSConnectionPool(host='www.banxico.org.mx', port=443): Max retries exceeded with url: /SieAPIRest/service/v1/series/SF43718/datos/2024-10-02/2024-10-02 (Caused by ProxyError('Unable to connect to proxy', OSError('Tunnel connection failed: 407 Proxy Authentication Required')))\n"
     ]
    }
   ],
   "source": [
    "try:\n",
    "    response = requests.get(url,  proxies=proxies, auth=auth, headers=headers)\n",
    "    \n",
    "    if response.status_code == 200:\n",
    "        data = response.json()\n",
    "    else:\n",
    "        print(f\"Error en Peticio: {response.status_code}\")\n",
    "        print(f\"Detalles del error: {response.text}\")\n",
    "except requests.exceptions.RequestException as e:\n",
    "    print(f\"Request failed: {e}\")\n",
    "    #print(f\"Error: {response.status_code}, {response.text}\")\n"
   ]
  },
  {
   "cell_type": "code",
   "execution_count": 60,
   "metadata": {},
   "outputs": [
    {
     "data": {
      "text/plain": [
       "'02/10/2024'"
      ]
     },
     "execution_count": 60,
     "metadata": {},
     "output_type": "execute_result"
    }
   ],
   "source": [
    "response['bmx']['series'][0]['datos'][0]['fecha']"
   ]
  },
  {
   "cell_type": "code",
   "execution_count": 61,
   "metadata": {},
   "outputs": [
    {
     "data": {
      "text/plain": [
       "'19.3885'"
      ]
     },
     "execution_count": 61,
     "metadata": {},
     "output_type": "execute_result"
    }
   ],
   "source": [
    "response['bmx']['series'][0]['datos'][0]['dato']"
   ]
  }
 ],
 "metadata": {
  "kernelspec": {
   "display_name": "env",
   "language": "python",
   "name": "python3"
  },
  "language_info": {
   "codemirror_mode": {
    "name": "ipython",
    "version": 3
   },
   "file_extension": ".py",
   "mimetype": "text/x-python",
   "name": "python",
   "nbconvert_exporter": "python",
   "pygments_lexer": "ipython3",
   "version": "3.11.3"
  }
 },
 "nbformat": 4,
 "nbformat_minor": 2
}
